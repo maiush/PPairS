{
 "cells": [
  {
   "cell_type": "code",
   "execution_count": 1,
   "metadata": {},
   "outputs": [],
   "source": [
    "import os, dill\n",
    "from dev.constants import gdrive_path\n",
    "\n",
    "import numpy as np\n",
    "import pandas as pd\n",
    "import torch as t\n",
    "from torch import nn, Tensor\n",
    "import torch.nn.functional as F\n",
    "from torch.utils.data import Subset, Dataset, DataLoader\n",
    "from sklearn.linear_model import SGDClassifier\n",
    "\n",
    "from jaxtyping import Float\n",
    "from tqdm.notebook import tqdm, trange"
   ]
  },
  {
   "cell_type": "code",
   "execution_count": 2,
   "metadata": {},
   "outputs": [],
   "source": [
    "class IPCCDataset(Dataset):\n",
    "\n",
    "    def __init__(self, device: str=\"cuda\"):\n",
    "        self.device = device\n",
    "        # all prompts used - corresponds to activations harvested\n",
    "        self.files = os.listdir(f\"{gdrive_path}/ipcc/long/prompts\")\n",
    "        # we index over all harvested activations as one dataset\n",
    "        self.file_ranges = []\n",
    "        # we will cache all activations and labels for faster loading\n",
    "        self.cache, self.labels = {}, {}\n",
    "        ix = 0\n",
    "        for file in tqdm(self.files, desc=\"caching data\"):\n",
    "            labels = pd.read_json(f\"{gdrive_path}/ipcc/long/prompts/{file}\", orient=\"records\", lines=True)\n",
    "            path = f\"{gdrive_path}/ipcc/long/activations\"\n",
    "            f = file.replace('prompts', 'PART')\n",
    "            choice1 = t.load(f\"{path}/{f.replace('.jsonl', '_CHOICE1.pt')}\", pickle_module=dill).to(self.device)\n",
    "            choice2 = t.load(f\"{path}/{f.replace('.jsonl', '_CHOICE2.pt')}\", pickle_module=dill).to(self.device)\n",
    "            data = t.concat([choice1-choice2, choice2-choice1])\n",
    "            labels = t.from_numpy(labels[\"P(S1)\"].values).to(data.dtype).to(device)\n",
    "            labels = t.concat([labels, 1-labels])\n",
    "            self.cache[file] = data\n",
    "            self.labels[file] = labels\n",
    "            self.file_ranges.append((ix, ix+data.size(0)))\n",
    "            ix += data.size(0)\n",
    "\n",
    "    def __len__(self):\n",
    "        return self.file_ranges[-1][1]\n",
    "\n",
    "    def __getitem__(self, ix):\n",
    "        file_ix = next(i for i, (start, end) in enumerate(self.file_ranges) if start <= ix < end)\n",
    "        file = self.files[file_ix]\n",
    "        data_ix = ix - self.file_ranges[file_ix][0]\n",
    "        data = self.cache[file][data_ix]\n",
    "        label = self.labels[file][data_ix]\n",
    "        return data, label"
   ]
  },
  {
   "cell_type": "code",
   "execution_count": 3,
   "metadata": {},
   "outputs": [
    {
     "data": {
      "application/vnd.jupyter.widget-view+json": {
       "model_id": "1ee886b4c6474225bd0261ebe79d42bb",
       "version_major": 2,
       "version_minor": 0
      },
      "text/plain": [
       "caching data:   0%|          | 0/29 [00:00<?, ?it/s]"
      ]
     },
     "metadata": {},
     "output_type": "display_data"
    }
   ],
   "source": [
    "dataset = IPCCDataset()\n",
    "# train/val/test split\n",
    "trainval_split, valtest_split = int(0.7*len(dataset)), int(0.85*len(dataset))\n",
    "# shuffle indices and create subsets\n",
    "perm = t.randperm(len(dataset))\n",
    "train_dataset = Subset(dataset, perm[:trainval_split])\n",
    "val_dataset = Subset(dataset, perm[trainval_split:valtest_split])\n",
    "test_dataset = Subset(dataset, perm[valtest_split:])\n",
    "# dataloaders\n",
    "train_loader = DataLoader(train_dataset, batch_size=32, shuffle=True)\n",
    "val_loader = DataLoader(val_dataset, batch_size=32, shuffle=True)\n",
    "test_loader = DataLoader(test_dataset, batch_size=32, shuffle=True)"
   ]
  },
  {
   "cell_type": "code",
   "execution_count": 4,
   "metadata": {},
   "outputs": [
    {
     "data": {
      "application/vnd.jupyter.widget-view+json": {
       "model_id": "4011d464e6c64e338ffd9b308adb5e43",
       "version_major": 2,
       "version_minor": 0
      },
      "text/plain": [
       "  0%|          | 0/11814 [00:00<?, ?it/s]"
      ]
     },
     "metadata": {},
     "output_type": "display_data"
    },
    {
     "data": {
      "application/vnd.jupyter.widget-view+json": {
       "model_id": "65ac05a0e2f54810b649407cddb46026",
       "version_major": 2,
       "version_minor": 0
      },
      "text/plain": [
       "  0%|          | 0/11814 [00:00<?, ?it/s]"
      ]
     },
     "metadata": {},
     "output_type": "display_data"
    },
    {
     "data": {
      "application/vnd.jupyter.widget-view+json": {
       "model_id": "26cc441550bd480185be560871d9d9dd",
       "version_major": 2,
       "version_minor": 0
      },
      "text/plain": [
       "  0%|          | 0/11814 [00:00<?, ?it/s]"
      ]
     },
     "metadata": {},
     "output_type": "display_data"
    },
    {
     "data": {
      "application/vnd.jupyter.widget-view+json": {
       "model_id": "1086db6152644bb2b4fa3758df48e6b7",
       "version_major": 2,
       "version_minor": 0
      },
      "text/plain": [
       "  0%|          | 0/11814 [00:00<?, ?it/s]"
      ]
     },
     "metadata": {},
     "output_type": "display_data"
    },
    {
     "data": {
      "application/vnd.jupyter.widget-view+json": {
       "model_id": "a8c0693547314e55ba99e15cbbb1f460",
       "version_major": 2,
       "version_minor": 0
      },
      "text/plain": [
       "  0%|          | 0/11814 [00:00<?, ?it/s]"
      ]
     },
     "metadata": {},
     "output_type": "display_data"
    },
    {
     "data": {
      "application/vnd.jupyter.widget-view+json": {
       "model_id": "18145f4516524ebbb074e3c9d8f4847f",
       "version_major": 2,
       "version_minor": 0
      },
      "text/plain": [
       "  0%|          | 0/11814 [00:00<?, ?it/s]"
      ]
     },
     "metadata": {},
     "output_type": "display_data"
    },
    {
     "data": {
      "application/vnd.jupyter.widget-view+json": {
       "model_id": "4997754bdf9c4bb791b0eef2bdad0c04",
       "version_major": 2,
       "version_minor": 0
      },
      "text/plain": [
       "  0%|          | 0/11814 [00:00<?, ?it/s]"
      ]
     },
     "metadata": {},
     "output_type": "display_data"
    },
    {
     "data": {
      "application/vnd.jupyter.widget-view+json": {
       "model_id": "1e7f2ac748844b0f86011ad4db19dba9",
       "version_major": 2,
       "version_minor": 0
      },
      "text/plain": [
       "  0%|          | 0/11814 [00:00<?, ?it/s]"
      ]
     },
     "metadata": {},
     "output_type": "display_data"
    },
    {
     "data": {
      "application/vnd.jupyter.widget-view+json": {
       "model_id": "afccde965c3a483a94bc4cf6f6bcce9f",
       "version_major": 2,
       "version_minor": 0
      },
      "text/plain": [
       "  0%|          | 0/11814 [00:00<?, ?it/s]"
      ]
     },
     "metadata": {},
     "output_type": "display_data"
    },
    {
     "data": {
      "application/vnd.jupyter.widget-view+json": {
       "model_id": "de50b647578f4bd29a7586125fd10208",
       "version_major": 2,
       "version_minor": 0
      },
      "text/plain": [
       "  0%|          | 0/11814 [00:00<?, ?it/s]"
      ]
     },
     "metadata": {},
     "output_type": "display_data"
    },
    {
     "name": "stdout",
     "output_type": "stream",
     "text": [
      "test accuracy: 0.734\n"
     ]
    }
   ],
   "source": [
    "lr = SGDClassifier(\n",
    "    loss=\"log_loss\",\n",
    "    learning_rate=\"constant\",\n",
    "    eta0=1e-2\n",
    ")\n",
    "\n",
    "n_epoch = 10\n",
    "desc = \"epoch 1\"\n",
    "first = True\n",
    "for epoch in range(n_epoch):\n",
    "    bar = tqdm(train_loader)\n",
    "    bar.set_description(desc)\n",
    "    for batch, labels in bar:\n",
    "        batch, labels = batch.cpu().numpy(), labels.cpu().numpy() > 0.5\n",
    "        if first:\n",
    "            first = False\n",
    "            lr.partial_fit(batch, labels, classes=[False, True])\n",
    "        else: lr.partial_fit(batch, labels)\n",
    "\n",
    "    scores = []\n",
    "    for batch, labels in val_loader:\n",
    "        batch, labels = batch.cpu().numpy(), labels.cpu().numpy() > 0.5\n",
    "        score = lr.score(batch, labels)\n",
    "        scores.append(score)\n",
    "    score = sum(scores) / len(scores)\n",
    "    desc = f\"epoch {epoch+2} ({round(score, 3)})\"\n",
    "scores = []\n",
    "for batch, labels in test_loader:\n",
    "    batch, labels = batch.cpu().numpy(), labels.cpu().numpy() > 0.5\n",
    "    score = lr.score(batch, labels)\n",
    "    scores.append(score)\n",
    "score = sum(scores) / len(scores)\n",
    "print(f\"test accuracy: {round(score, 3)}\")"
   ]
  },
  {
   "cell_type": "code",
   "execution_count": 10,
   "metadata": {},
   "outputs": [],
   "source": [
    "from sklearn.metrics import confusion_matrix\n",
    "\n",
    "\n",
    "y_pred, y_true = [], []\n",
    "for batch, labels in test_loader:\n",
    "    batch, labels = batch.cpu().numpy(), labels.cpu().numpy() > 0.5\n",
    "    y_pred.append(lr.predict(batch))\n",
    "    y_true.append(labels)\n",
    "y_pred = np.concatenate(y_pred)\n",
    "y_true = np.concatenate(y_true)\n",
    "cm = confusion_matrix(y_true, y_pred, normalize=\"true\")\n",
    "cm"
   ]
  },
  {
   "cell_type": "code",
   "execution_count": 5,
   "metadata": {},
   "outputs": [
    {
     "data": {
      "application/vnd.jupyter.widget-view+json": {
       "model_id": "f74f0d49f2e34cc182f357539d891166",
       "version_major": 2,
       "version_minor": 0
      },
      "text/plain": [
       "  0%|          | 0/11814 [00:00<?, ?it/s]"
      ]
     },
     "metadata": {},
     "output_type": "display_data"
    },
    {
     "data": {
      "application/vnd.jupyter.widget-view+json": {
       "model_id": "8520dc4343864fb99891b2ca701fe04b",
       "version_major": 2,
       "version_minor": 0
      },
      "text/plain": [
       "  0%|          | 0/11814 [00:00<?, ?it/s]"
      ]
     },
     "metadata": {},
     "output_type": "display_data"
    },
    {
     "data": {
      "application/vnd.jupyter.widget-view+json": {
       "model_id": "6e20ed20893c41079d89fe8337febb52",
       "version_major": 2,
       "version_minor": 0
      },
      "text/plain": [
       "  0%|          | 0/11814 [00:00<?, ?it/s]"
      ]
     },
     "metadata": {},
     "output_type": "display_data"
    },
    {
     "data": {
      "application/vnd.jupyter.widget-view+json": {
       "model_id": "625c524f9f214286b74e75f3be99fc33",
       "version_major": 2,
       "version_minor": 0
      },
      "text/plain": [
       "  0%|          | 0/11814 [00:00<?, ?it/s]"
      ]
     },
     "metadata": {},
     "output_type": "display_data"
    },
    {
     "data": {
      "application/vnd.jupyter.widget-view+json": {
       "model_id": "1e79a34ed8034d0d86e592dbe15b8ebd",
       "version_major": 2,
       "version_minor": 0
      },
      "text/plain": [
       "  0%|          | 0/11814 [00:00<?, ?it/s]"
      ]
     },
     "metadata": {},
     "output_type": "display_data"
    },
    {
     "data": {
      "application/vnd.jupyter.widget-view+json": {
       "model_id": "27bbc1f0caf14d21aa54bbf841e5fd7f",
       "version_major": 2,
       "version_minor": 0
      },
      "text/plain": [
       "  0%|          | 0/11814 [00:00<?, ?it/s]"
      ]
     },
     "metadata": {},
     "output_type": "display_data"
    },
    {
     "data": {
      "application/vnd.jupyter.widget-view+json": {
       "model_id": "c04fdfd5afdc469c8fb23680a00a5587",
       "version_major": 2,
       "version_minor": 0
      },
      "text/plain": [
       "  0%|          | 0/11814 [00:00<?, ?it/s]"
      ]
     },
     "metadata": {},
     "output_type": "display_data"
    },
    {
     "data": {
      "application/vnd.jupyter.widget-view+json": {
       "model_id": "472c6d9540dc45508e021aee59603e51",
       "version_major": 2,
       "version_minor": 0
      },
      "text/plain": [
       "  0%|          | 0/11814 [00:00<?, ?it/s]"
      ]
     },
     "metadata": {},
     "output_type": "display_data"
    },
    {
     "data": {
      "application/vnd.jupyter.widget-view+json": {
       "model_id": "d047efb9b7644c3a812bce0ae5e9e303",
       "version_major": 2,
       "version_minor": 0
      },
      "text/plain": [
       "  0%|          | 0/11814 [00:00<?, ?it/s]"
      ]
     },
     "metadata": {},
     "output_type": "display_data"
    },
    {
     "data": {
      "application/vnd.jupyter.widget-view+json": {
       "model_id": "304acc2ecf7b4727b067f760310ebf44",
       "version_major": 2,
       "version_minor": 0
      },
      "text/plain": [
       "  0%|          | 0/11814 [00:00<?, ?it/s]"
      ]
     },
     "metadata": {},
     "output_type": "display_data"
    },
    {
     "name": "stdout",
     "output_type": "stream",
     "text": [
      "test accuracy: 0.72\n"
     ]
    }
   ],
   "source": [
    "lr = SGDClassifier(\n",
    "    loss=\"log_loss\",\n",
    "    learning_rate=\"constant\",\n",
    "    eta0=1e-3\n",
    ")\n",
    "\n",
    "n_epoch = 10\n",
    "desc = \"epoch 1\"\n",
    "first = True\n",
    "for epoch in range(n_epoch):\n",
    "    bar = tqdm(train_loader)\n",
    "    bar.set_description(desc)\n",
    "    for batch, labels in bar:\n",
    "        batch, labels = batch.cpu().numpy(), labels.cpu().numpy() * 2\n",
    "        if first:\n",
    "            first = False\n",
    "            lr.partial_fit(batch, labels, classes=[0, 1, 2])\n",
    "        else: lr.partial_fit(batch, labels)\n",
    "\n",
    "    scores = []\n",
    "    for batch, labels in val_loader:\n",
    "        batch, labels = batch.cpu().numpy(), labels.cpu().numpy() * 2\n",
    "        score = lr.score(batch, labels)\n",
    "        scores.append(score)\n",
    "    score = sum(scores) / len(scores)\n",
    "    desc = f\"epoch {epoch+2} ({round(score, 3)})\"\n",
    "scores = []\n",
    "for batch, labels in test_loader:\n",
    "    batch, labels = batch.cpu().numpy(), labels.cpu().numpy() * 2\n",
    "    score = lr.score(batch, labels)\n",
    "    scores.append(score)\n",
    "score = sum(scores) / len(scores)\n",
    "print(f\"test accuracy: {round(score, 3)}\")"
   ]
  }
 ],
 "metadata": {
  "kernelspec": {
   "display_name": "pairs",
   "language": "python",
   "name": "python3"
  },
  "language_info": {
   "codemirror_mode": {
    "name": "ipython",
    "version": 3
   },
   "file_extension": ".py",
   "mimetype": "text/x-python",
   "name": "python",
   "nbconvert_exporter": "python",
   "pygments_lexer": "ipython3",
   "version": "3.12.2"
  }
 },
 "nbformat": 4,
 "nbformat_minor": 2
}
