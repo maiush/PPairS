{
 "cells": [
  {
   "cell_type": "code",
   "execution_count": 1,
   "metadata": {},
   "outputs": [],
   "source": [
    "from PPairS.datasets import IPCCDataset\n",
    "from PPairS.trainer import Trainer\n",
    "\n",
    "import torch as t\n",
    "from torch import nn, Tensor\n",
    "import torch.nn.functional as F\n",
    "\n",
    "from sklearn.linear_model import SGDClassifier\n",
    "\n",
    "from jaxtyping import Float\n",
    "from tqdm.notebook import tqdm"
   ]
  },
  {
   "cell_type": "code",
   "execution_count": 2,
   "metadata": {},
   "outputs": [
    {
     "name": "stderr",
     "output_type": "stream",
     "text": [
      "caching data: 100%|██████████| 29/29 [01:36<00:00,  3.32s/it]\n"
     ]
    }
   ],
   "source": [
    "trainer = Trainer(\n",
    "    dataset_class = IPCCDataset,\n",
    "    dataset_kwargs = {\"contrast\": False},\n",
    "    splits = (0.8, 0.9),\n",
    "    batch_size = 64\n",
    ")"
   ]
  },
  {
   "cell_type": "code",
   "execution_count": 16,
   "metadata": {},
   "outputs": [],
   "source": [
    "class FeatureDirection(nn.Module):\n",
    "\n",
    "    def __init__(\n",
    "        self,\n",
    "        d_model: int=4096,\n",
    "        device: str=\"cuda\"\n",
    "    ):\n",
    "        super(FeatureDirection, self).__init__()\n",
    "        self.d_model = d_model\n",
    "        self.device = device\n",
    "\n",
    "        init_fd = t.randn(self.d_model, device=self.device)\n",
    "        self.fd = nn.Parameter(data=init_fd)\n",
    "        self.register_parameter(name=\"fd\", param=self.fd)\n",
    "        self.fd.data = self.fd / t.linalg.vector_norm(self.fd)\n",
    "\n",
    "    def forward(\n",
    "            self,\n",
    "            x: Float[Tensor, \"batch d_model\"]\n",
    "    ) -> Float[Tensor, \"batch\"]:\n",
    "        return x @ self.fd\n",
    "    \n",
    "    def unit(self):\n",
    "        with t.no_grad(): self.fd.data = self.fd / t.linalg.vector_norm(self.fd)\n",
    "\n",
    "    def orthogonalize(self, x: Float[Tensor, \"batch d_model\"]) -> Float[Tensor, \"batch d_model\"]:\n",
    "        proj = self.forward(x)\n",
    "        orthog = x - t.outer(proj, self.fd)\n",
    "        return orthog"
   ]
  },
  {
   "cell_type": "code",
   "execution_count": 20,
   "metadata": {},
   "outputs": [
    {
     "data": {
      "application/vnd.jupyter.widget-view+json": {
       "model_id": "b01770bd79b04680a674d191162f1c55",
       "version_major": 2,
       "version_minor": 0
      },
      "text/plain": [
       "  0%|          | 0/3376 [00:00<?, ?it/s]"
      ]
     },
     "metadata": {},
     "output_type": "display_data"
    },
    {
     "data": {
      "application/vnd.jupyter.widget-view+json": {
       "model_id": "8592ce0fee6c4446b22ac6d0a63b30b7",
       "version_major": 2,
       "version_minor": 0
      },
      "text/plain": [
       "  0%|          | 0/3376 [00:00<?, ?it/s]"
      ]
     },
     "metadata": {},
     "output_type": "display_data"
    },
    {
     "data": {
      "application/vnd.jupyter.widget-view+json": {
       "model_id": "d9e230630853460db0c0cd5e79aac4dd",
       "version_major": 2,
       "version_minor": 0
      },
      "text/plain": [
       "  0%|          | 0/3376 [00:00<?, ?it/s]"
      ]
     },
     "metadata": {},
     "output_type": "display_data"
    },
    {
     "data": {
      "application/vnd.jupyter.widget-view+json": {
       "model_id": "854f9369438d4ca89cc93bd7aca8b04a",
       "version_major": 2,
       "version_minor": 0
      },
      "text/plain": [
       "  0%|          | 0/3376 [00:00<?, ?it/s]"
      ]
     },
     "metadata": {},
     "output_type": "display_data"
    },
    {
     "data": {
      "application/vnd.jupyter.widget-view+json": {
       "model_id": "5f9316fb87944d8b9dfc4cc1fa640215",
       "version_major": 2,
       "version_minor": 0
      },
      "text/plain": [
       "  0%|          | 0/3376 [00:00<?, ?it/s]"
      ]
     },
     "metadata": {},
     "output_type": "display_data"
    },
    {
     "data": {
      "application/vnd.jupyter.widget-view+json": {
       "model_id": "4f9420995d2141fd81e19cf11a7938b4",
       "version_major": 2,
       "version_minor": 0
      },
      "text/plain": [
       "  0%|          | 0/3376 [00:00<?, ?it/s]"
      ]
     },
     "metadata": {},
     "output_type": "display_data"
    },
    {
     "data": {
      "application/vnd.jupyter.widget-view+json": {
       "model_id": "1347d9903ca04d829e308dd52c9dad11",
       "version_major": 2,
       "version_minor": 0
      },
      "text/plain": [
       "  0%|          | 0/3376 [00:00<?, ?it/s]"
      ]
     },
     "metadata": {},
     "output_type": "display_data"
    },
    {
     "data": {
      "application/vnd.jupyter.widget-view+json": {
       "model_id": "5e44301c3c6a4adaa01ae49d90bd8ccd",
       "version_major": 2,
       "version_minor": 0
      },
      "text/plain": [
       "  0%|          | 0/3376 [00:00<?, ?it/s]"
      ]
     },
     "metadata": {},
     "output_type": "display_data"
    },
    {
     "data": {
      "application/vnd.jupyter.widget-view+json": {
       "model_id": "552ffcb649a4410898d753dbf91bc5f7",
       "version_major": 2,
       "version_minor": 0
      },
      "text/plain": [
       "  0%|          | 0/3376 [00:00<?, ?it/s]"
      ]
     },
     "metadata": {},
     "output_type": "display_data"
    },
    {
     "data": {
      "application/vnd.jupyter.widget-view+json": {
       "model_id": "e6138f0a6b084651a58b0cd351d438dc",
       "version_major": 2,
       "version_minor": 0
      },
      "text/plain": [
       "  0%|          | 0/3376 [00:00<?, ?it/s]"
      ]
     },
     "metadata": {},
     "output_type": "display_data"
    }
   ],
   "source": [
    "n_epoch = 10\n",
    "belief_direction = FeatureDirection()\n",
    "orthog_direction = FeatureDirection()\n",
    "opt_b = t.optim.SGD(belief_direction.parameters(), lr=0.01, weight_decay=0.001)\n",
    "opt_o = t.optim.SGD(orthog_direction.parameters(), lr=0.01, weight_decay=0.001)\n",
    "desc = \"epoch 1\"\n",
    "for epoch in range(n_epoch):\n",
    "    bar = tqdm(trainer.train_loader)\n",
    "    bar.set_description(desc)\n",
    "    for batch, labels in bar:\n",
    "        # ----------\n",
    "        # update belief direction\n",
    "        # ----------\n",
    "        opt_b.zero_grad()\n",
    "        logits = belief_direction(batch)\n",
    "        L_classify = F.binary_cross_entropy_with_logits(logits, (labels > 0.5).float())\n",
    "        orthog = belief_direction.orthogonalize(batch)\n",
    "        logits = orthog_direction(orthog)\n",
    "        L_inhibit = -F.binary_cross_entropy_with_logits(logits, (labels > 0.5).float())\n",
    "        L = L_classify + L_inhibit\n",
    "        L.backward()\n",
    "        opt_b.step()\n",
    "        belief_direction.unit()\n",
    "        # ----------\n",
    "        # update probe on orthogonalized data\n",
    "        # ----------\n",
    "        opt_o.zero_grad()\n",
    "        logits = orthog_direction(orthog.detach())\n",
    "        L = F.binary_cross_entropy_with_logits(logits, (labels > 0.5).float())\n",
    "        L.backward()\n",
    "        opt_o.step()\n",
    "        orthog_direction.unit()\n",
    "\n",
    "    # validation loss\n",
    "    accuracy_b, accuracy_o = [], []\n",
    "    for batch, labels in trainer.val_loader:\n",
    "        with t.no_grad():\n",
    "            logits_b = belief_direction(batch)\n",
    "            orthog = belief_direction.orthogonalize(batch)\n",
    "            logits_o = orthog_direction(orthog)\n",
    "            P_b = F.sigmoid(logits_b)\n",
    "            P_o = F.sigmoid(logits_o)\n",
    "            accuracy_b.append(((P_b>0.5) == (labels>0.5)).float().mean())\n",
    "            accuracy_o.append(((P_o>0.5) == (labels>0.5)).float().mean())\n",
    "    accuracy_b = sum(accuracy_b) / len(accuracy_b)\n",
    "    accuracy_o = sum(accuracy_o) / len(accuracy_o)\n",
    "    desc = f\"epoch {epoch+2} ({round(accuracy_b.item(), 3)} / {round(accuracy_o.item(), 3)})\""
   ]
  },
  {
   "cell_type": "code",
   "execution_count": 7,
   "metadata": {},
   "outputs": [
    {
     "data": {
      "application/vnd.jupyter.widget-view+json": {
       "model_id": "a2f82f98e2a04600b4aba86a6cbb2f1d",
       "version_major": 2,
       "version_minor": 0
      },
      "text/plain": [
       "  0%|          | 0/3376 [00:00<?, ?it/s]"
      ]
     },
     "metadata": {},
     "output_type": "display_data"
    },
    {
     "data": {
      "application/vnd.jupyter.widget-view+json": {
       "model_id": "31603ae6965b4703a3adb14d2a38b0d3",
       "version_major": 2,
       "version_minor": 0
      },
      "text/plain": [
       "  0%|          | 0/3376 [00:00<?, ?it/s]"
      ]
     },
     "metadata": {},
     "output_type": "display_data"
    },
    {
     "data": {
      "application/vnd.jupyter.widget-view+json": {
       "model_id": "209d9efa4c2142e7bcca2b23030aa938",
       "version_major": 2,
       "version_minor": 0
      },
      "text/plain": [
       "  0%|          | 0/3376 [00:00<?, ?it/s]"
      ]
     },
     "metadata": {},
     "output_type": "display_data"
    },
    {
     "data": {
      "application/vnd.jupyter.widget-view+json": {
       "model_id": "5239a3a514dc4e25aa0199eb49cccc4f",
       "version_major": 2,
       "version_minor": 0
      },
      "text/plain": [
       "  0%|          | 0/3376 [00:00<?, ?it/s]"
      ]
     },
     "metadata": {},
     "output_type": "display_data"
    },
    {
     "data": {
      "application/vnd.jupyter.widget-view+json": {
       "model_id": "44ccc6799b934a12b2a3fc2143bbe041",
       "version_major": 2,
       "version_minor": 0
      },
      "text/plain": [
       "  0%|          | 0/3376 [00:00<?, ?it/s]"
      ]
     },
     "metadata": {},
     "output_type": "display_data"
    },
    {
     "data": {
      "application/vnd.jupyter.widget-view+json": {
       "model_id": "33846722dea34fbba5b3f8dbbce0f5d1",
       "version_major": 2,
       "version_minor": 0
      },
      "text/plain": [
       "  0%|          | 0/3376 [00:00<?, ?it/s]"
      ]
     },
     "metadata": {},
     "output_type": "display_data"
    },
    {
     "data": {
      "application/vnd.jupyter.widget-view+json": {
       "model_id": "a759d056a24b478fa428b29913f2ade8",
       "version_major": 2,
       "version_minor": 0
      },
      "text/plain": [
       "  0%|          | 0/3376 [00:00<?, ?it/s]"
      ]
     },
     "metadata": {},
     "output_type": "display_data"
    },
    {
     "data": {
      "application/vnd.jupyter.widget-view+json": {
       "model_id": "fc30172e63834cd3a99359bd662e8b27",
       "version_major": 2,
       "version_minor": 0
      },
      "text/plain": [
       "  0%|          | 0/3376 [00:00<?, ?it/s]"
      ]
     },
     "metadata": {},
     "output_type": "display_data"
    },
    {
     "data": {
      "application/vnd.jupyter.widget-view+json": {
       "model_id": "bb8cae9589c944268b9a4ef9eb59551a",
       "version_major": 2,
       "version_minor": 0
      },
      "text/plain": [
       "  0%|          | 0/3376 [00:00<?, ?it/s]"
      ]
     },
     "metadata": {},
     "output_type": "display_data"
    },
    {
     "data": {
      "application/vnd.jupyter.widget-view+json": {
       "model_id": "bcdac00c930946fb80a096b853609a42",
       "version_major": 2,
       "version_minor": 0
      },
      "text/plain": [
       "  0%|          | 0/3376 [00:00<?, ?it/s]"
      ]
     },
     "metadata": {},
     "output_type": "display_data"
    },
    {
     "name": "stdout",
     "output_type": "stream",
     "text": [
      "test accuracy: 0.792\n"
     ]
    }
   ],
   "source": [
    "# n_epoch = 10\n",
    "# belief_direction = FeatureDirection()\n",
    "# opt = t.optim.SGD(belief_direction.parameters(), lr=0.01, weight_decay=0.001)\n",
    "# desc = \"epoch 1\"\n",
    "# for epoch in range(n_epoch):\n",
    "#     bar = tqdm(trainer.train_loader)\n",
    "#     bar.set_description(desc)\n",
    "#     for batch, labels in bar:\n",
    "#         logits = belief_direction(batch)\n",
    "#         loss = F.binary_cross_entropy_with_logits(logits, (labels > 0.5).float())\n",
    "#         opt.zero_grad()\n",
    "#         loss.backward()\n",
    "#         opt.step()\n",
    "#         belief_direction.unit()\n",
    "\n",
    "#     # validation loss\n",
    "#     accuracy = []\n",
    "#     for batch, labels in trainer.val_loader:\n",
    "#         with t.no_grad():\n",
    "#             logits = belief_direction(batch)\n",
    "#             P = F.sigmoid(logits)\n",
    "#             accuracy.append(((P>0.5) == (labels>0.5)).float().mean())\n",
    "#     accuracy = sum(accuracy) / len(accuracy)\n",
    "#     desc = f\"epoch {epoch+2} ({round(accuracy.item(), 3)})\"\n",
    "\n",
    "# # test loss\n",
    "# accuracy = []\n",
    "# for batch, labels in trainer.test_loader:\n",
    "#     with t.no_grad():\n",
    "#         logits = belief_direction(batch)\n",
    "#         P = F.sigmoid(logits)\n",
    "#         accuracy.append(((P>0.5) == (labels>0.5)).float().mean())\n",
    "# accuracy = sum(accuracy) / len(accuracy)\n",
    "# print(f\"test accuracy: {round(accuracy.item(), 3)}\")"
   ]
  }
 ],
 "metadata": {
  "kernelspec": {
   "display_name": "pairs",
   "language": "python",
   "name": "python3"
  },
  "language_info": {
   "codemirror_mode": {
    "name": "ipython",
    "version": 3
   },
   "file_extension": ".py",
   "mimetype": "text/x-python",
   "name": "python",
   "nbconvert_exporter": "python",
   "pygments_lexer": "ipython3",
   "version": "3.12.2"
  }
 },
 "nbformat": 4,
 "nbformat_minor": 2
}
