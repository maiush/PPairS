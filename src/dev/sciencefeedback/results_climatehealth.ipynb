{
 "cells": [
  {
   "cell_type": "code",
   "execution_count": 1,
   "metadata": {},
   "outputs": [],
   "source": [
    "from dev.constants import data_storage\n",
    "\n",
    "import numpy as np\n",
    "import pandas as pd\n",
    "from sklearn.linear_model import LogisticRegression\n",
    "\n",
    "import torch as t\n",
    "\n",
    "from typing import Tuple\n",
    "from tqdm.notebook import tqdm, trange\n",
    "\n",
    "path = f\"{data_storage}/sciencefeedback/\""
   ]
  },
  {
   "cell_type": "code",
   "execution_count": 2,
   "metadata": {},
   "outputs": [],
   "source": [
    "def train_probe(subset: str, split: float=0.5) -> Tuple[np.ndarray]:\n",
    "    # load activations\n",
    "    x1 = t.load(f\"{data_storage}/sciencefeedback/activations/{subset}feedback1.pt\")\n",
    "    x2 = t.load(f\"{data_storage}/sciencefeedback/activations/{subset}feedback2.pt\")\n",
    "    x = t.concat([x1-x2, x2-x1])\n",
    "\n",
    "    # load prompts - labels and mapping to IDs\n",
    "    prompts_path = f\"{data_storage}/sciencefeedback/prompts/{subset}feedback_contrast_1.jsonl\"\n",
    "    prompts = pd.read_json(prompts_path, orient=\"records\", lines=True)\n",
    "    prompts[\"C1\"] = prompts[\"claimID\"].apply(lambda x: x[0])\n",
    "    prompts[\"C2\"] = prompts[\"claimID\"].apply(lambda x: x[1])\n",
    "    prompts = prompts[[\"C1\", \"C2\", \"P(Claim 1)\"]]\n",
    "    _prompts = prompts.copy()\n",
    "    _prompts.rename({\"C1\": \"C2\", \"C2\": \"C1\"}, axis=1, inplace=True)\n",
    "    _prompts[\"P(Claim 1)\"] = _prompts[\"P(Claim 1)\"].apply(lambda x: 1-x)\n",
    "    prompts = pd.concat([prompts, _prompts])\n",
    "    y = prompts[\"P(Claim 1)\"].to_numpy()\n",
    "\n",
    "    # train/test split\n",
    "    perm = t.randperm(len(x))\n",
    "    split_ix = int(split*len(x))\n",
    "    train_ixs, test_ixs = perm[:split_ix], perm[split_ix:]\n",
    "    x_train, x_test = x[train_ixs], x[test_ixs]\n",
    "    y_train, y_test = y[train_ixs], y[test_ixs]\n",
    "    \n",
    "    # fit model (converting y as probabilities into class labels)\n",
    "    lr = LogisticRegression(max_iter=10_000, n_jobs=-1)\n",
    "    lr.fit(x_train, y_train*2)\n",
    "\n",
    "    # obtain test predictions (converting back to probabilities)\n",
    "    predictions = lr.predict(x_test) / 2\n",
    "\n",
    "    return predictions, test_ixs"
   ]
  },
  {
   "cell_type": "code",
   "execution_count": 3,
   "metadata": {},
   "outputs": [],
   "source": [
    "def collect_results(subset: str) -> pd.DataFrame:\n",
    "    # load scores (direct-scoring)\n",
    "    scores = pd.read_json(f\"{path}/scores/{subset}feedback.jsonl\", orient=\"records\", lines=True)\n",
    "    v2int = {\"incorrect\": -1, \"misleading\": 0, \"correct\": 1}\n",
    "    scores[\"score\"] = scores[\"verdict\"].apply(lambda x: v2int[x])\n",
    "    scores = scores[[\"claimID\", \"score\"]]\n",
    "\n",
    "    # load logits (pairs)\n",
    "    logits = pd.read_json(f\"{path}/logits/{subset}feedback.jsonl\", orient=\"records\", lines=True)\n",
    "    logits[\"C1\"] = logits[\"claimID\"].apply(lambda x: x[0])\n",
    "    logits[\"C2\"] = logits[\"claimID\"].apply(lambda x: x[1])\n",
    "    logits.rename({\"P(Claim 1)\": \"true\"}, inplace=True, axis=1)\n",
    "    logits.drop(columns=[\"claimID\", \"prompt\"], inplace=True)\n",
    "    _logits = logits.copy()\n",
    "    _logits.rename({\"C1\": \"C2\", \"C2\": \"C1\", \"p_s1\": \"p_s2\", \"p_s2\": \"p_s1\"}, axis=1, inplace=True)\n",
    "    _logits[\"true\"] = logits[\"true\"].apply(lambda x: 1-x)\n",
    "    logits = pd.concat([logits, _logits])\n",
    "    logits.rename({\"p_s1\": \"logits\"}, axis=1, inplace=True)\n",
    "    logits.drop(columns=[\"p_s2\"], inplace=True)\n",
    "\n",
    "    # load probe classifications (ppairs)\n",
    "    probe_predictions, probe_ixs = train_probe(subset, 0.5) \n",
    "\n",
    "    # collect results\n",
    "    results = pd.DataFrame(columns=[\"C1\", \"C2\", \"true\", \"direct-scoring\", \"logits\", \"probe\"])\n",
    "    for i in trange(len(logits), desc=\"collecting results\"):\n",
    "\n",
    "        # ground-truth\n",
    "        logit_row = logits.iloc[i]\n",
    "        gt = logit_row[\"true\"]\n",
    "\n",
    "        # direct-scoring\n",
    "        id1, id2 = logit_row[[\"C1\", \"C2\"]].values\n",
    "        c1, c2 = scores.loc[scores[\"claimID\"] == id1, \"score\"], scores.loc[scores[\"claimID\"] == id2, \"score\"]\n",
    "        if len(c1) == 0 or len(c2) == 0: \n",
    "            ds = np.nan\n",
    "        else:\n",
    "            c1, c2 = c1.item(), c2.item()\n",
    "            ds = 0.5\n",
    "            if c1 > c2: ds = 1.\n",
    "            if c1 < c2: ds = 0.\n",
    "\n",
    "        # logits\n",
    "        lgt = logit_row[\"logits\"]\n",
    "\n",
    "        # probe\n",
    "        if i in probe_ixs: \n",
    "            ix = (probe_ixs == i).nonzero(as_tuple=True)[0].item()\n",
    "            prb = probe_predictions[ix].item()\n",
    "        else: prb = np.nan\n",
    "\n",
    "        results.loc[len(results)] = [id1, id2, gt, ds, lgt, prb]\n",
    "\n",
    "    return results.dropna()"
   ]
  },
  {
   "cell_type": "code",
   "execution_count": 4,
   "metadata": {},
   "outputs": [
    {
     "data": {
      "application/vnd.jupyter.widget-view+json": {
       "model_id": "48444f8b06c54ad88630fbffe32fa6ce",
       "version_major": 2,
       "version_minor": 0
      },
      "text/plain": [
       "collecting results:   0%|          | 0/19800 [00:00<?, ?it/s]"
      ]
     },
     "metadata": {},
     "output_type": "display_data"
    },
    {
     "data": {
      "application/vnd.jupyter.widget-view+json": {
       "model_id": "4ff08f3355ee4c2382beb4fae11f1e51",
       "version_major": 2,
       "version_minor": 0
      },
      "text/plain": [
       "collecting results:   0%|          | 0/19800 [00:00<?, ?it/s]"
      ]
     },
     "metadata": {},
     "output_type": "display_data"
    }
   ],
   "source": [
    "accuracy = pd.DataFrame(columns=[\"direct-scoring\", \"logits\", \"probe\"])\n",
    "for subset in [\"climate\", \"health\"]:\n",
    "    results = collect_results(subset)\n",
    "    # calculate accuracies\n",
    "    a = {}\n",
    "    for c in [\"direct-scoring\", \"logits\", \"probe\"]:\n",
    "        a[c] = ((results[c] > 0.5) == (results[\"true\"] > 0.5)).mean().item()\n",
    "    accuracy.loc[subset] = [a[\"direct-scoring\"], a[\"logits\"], a[\"probe\"]]"
   ]
  },
  {
   "cell_type": "code",
   "execution_count": 5,
   "metadata": {},
   "outputs": [
    {
     "data": {
      "text/html": [
       "<div>\n",
       "<style scoped>\n",
       "    .dataframe tbody tr th:only-of-type {\n",
       "        vertical-align: middle;\n",
       "    }\n",
       "\n",
       "    .dataframe tbody tr th {\n",
       "        vertical-align: top;\n",
       "    }\n",
       "\n",
       "    .dataframe thead th {\n",
       "        text-align: right;\n",
       "    }\n",
       "</style>\n",
       "<table border=\"1\" class=\"dataframe\">\n",
       "  <thead>\n",
       "    <tr style=\"text-align: right;\">\n",
       "      <th></th>\n",
       "      <th>direct-scoring</th>\n",
       "      <th>logits</th>\n",
       "      <th>probe</th>\n",
       "    </tr>\n",
       "  </thead>\n",
       "  <tbody>\n",
       "    <tr>\n",
       "      <th>climate</th>\n",
       "      <td>0.823434</td>\n",
       "      <td>0.584646</td>\n",
       "      <td>0.995657</td>\n",
       "    </tr>\n",
       "    <tr>\n",
       "      <th>health</th>\n",
       "      <td>0.860707</td>\n",
       "      <td>0.560000</td>\n",
       "      <td>0.998889</td>\n",
       "    </tr>\n",
       "  </tbody>\n",
       "</table>\n",
       "</div>"
      ],
      "text/plain": [
       "         direct-scoring    logits     probe\n",
       "climate        0.823434  0.584646  0.995657\n",
       "health         0.860707  0.560000  0.998889"
      ]
     },
     "execution_count": 5,
     "metadata": {},
     "output_type": "execute_result"
    }
   ],
   "source": [
    "accuracy"
   ]
  }
 ],
 "metadata": {
  "kernelspec": {
   "display_name": "pairs",
   "language": "python",
   "name": "python3"
  },
  "language_info": {
   "codemirror_mode": {
    "name": "ipython",
    "version": 3
   },
   "file_extension": ".py",
   "mimetype": "text/x-python",
   "name": "python",
   "nbconvert_exporter": "python",
   "pygments_lexer": "ipython3",
   "version": "3.12.4"
  }
 },
 "nbformat": 4,
 "nbformat_minor": 2
}
