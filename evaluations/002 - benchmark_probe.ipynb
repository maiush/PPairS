{
 "cells": [
  {
   "cell_type": "code",
   "execution_count": 3,
   "metadata": {},
   "outputs": [],
   "source": [
    "import os, sys; sys.path.append(\"../utils\")\n",
    "from constants import *\n",
    "\n",
    "import numpy as np\n",
    "import pandas as pd\n",
    "\n",
    "from sklearn.metrics import cohen_kappa_score as kappa\n",
    "\n",
    "import torch as t\n",
    "from sklearn.linear_model import LogisticRegression\n",
    "\n",
    "from tqdm import trange\n",
    "\n",
    "\n",
    "aspects = [\"consistency\", \"coherence\", \"fluency\", \"relevance\"]"
   ]
  },
  {
   "cell_type": "code",
   "execution_count": 10,
   "metadata": {},
   "outputs": [
    {
     "name": "stderr",
     "output_type": "stream",
     "text": [
      "fitting models: 100%|██████████| 10/10 [02:32<00:00, 15.27s/it]\n",
      "fitting models: 100%|██████████| 10/10 [06:02<00:00, 36.22s/it]\n",
      "fitting models: 100%|██████████| 10/10 [04:29<00:00, 26.98s/it]\n",
      "fitting models: 100%|██████████| 10/10 [10:01<00:00, 60.13s/it]\n"
     ]
    },
    {
     "name": "stdout",
     "output_type": "stream",
     "text": [
      "mistral\n"
     ]
    },
    {
     "data": {
      "text/html": [
       "<div>\n",
       "<style scoped>\n",
       "    .dataframe tbody tr th:only-of-type {\n",
       "        vertical-align: middle;\n",
       "    }\n",
       "\n",
       "    .dataframe tbody tr th {\n",
       "        vertical-align: top;\n",
       "    }\n",
       "\n",
       "    .dataframe thead th {\n",
       "        text-align: right;\n",
       "    }\n",
       "</style>\n",
       "<table border=\"1\" class=\"dataframe\">\n",
       "  <thead>\n",
       "    <tr style=\"text-align: right;\">\n",
       "      <th></th>\n",
       "      <th>consistency</th>\n",
       "      <th>coherence</th>\n",
       "      <th>fluency</th>\n",
       "      <th>relevance</th>\n",
       "    </tr>\n",
       "    <tr>\n",
       "      <th>dataset</th>\n",
       "      <th></th>\n",
       "      <th></th>\n",
       "      <th></th>\n",
       "      <th></th>\n",
       "    </tr>\n",
       "  </thead>\n",
       "  <tbody>\n",
       "    <tr>\n",
       "      <th>summeval</th>\n",
       "      <td>0.785833</td>\n",
       "      <td>0.641111</td>\n",
       "      <td>0.704722</td>\n",
       "      <td>0.589444</td>\n",
       "    </tr>\n",
       "  </tbody>\n",
       "</table>\n",
       "</div>"
      ],
      "text/plain": [
       "          consistency  coherence   fluency  relevance\n",
       "dataset                                              \n",
       "summeval     0.785833   0.641111  0.704722   0.589444"
      ]
     },
     "metadata": {},
     "output_type": "display_data"
    },
    {
     "name": "stderr",
     "output_type": "stream",
     "text": [
      "fitting models: 100%|██████████| 10/10 [02:29<00:00, 14.92s/it]\n",
      "fitting models: 100%|██████████| 10/10 [06:40<00:00, 40.00s/it]\n",
      "fitting models: 100%|██████████| 10/10 [04:23<00:00, 26.33s/it]\n",
      "fitting models: 100%|██████████| 10/10 [05:08<00:00, 30.90s/it]"
     ]
    },
    {
     "name": "stdout",
     "output_type": "stream",
     "text": [
      "llama2\n"
     ]
    },
    {
     "name": "stderr",
     "output_type": "stream",
     "text": [
      "\n"
     ]
    },
    {
     "data": {
      "text/html": [
       "<div>\n",
       "<style scoped>\n",
       "    .dataframe tbody tr th:only-of-type {\n",
       "        vertical-align: middle;\n",
       "    }\n",
       "\n",
       "    .dataframe tbody tr th {\n",
       "        vertical-align: top;\n",
       "    }\n",
       "\n",
       "    .dataframe thead th {\n",
       "        text-align: right;\n",
       "    }\n",
       "</style>\n",
       "<table border=\"1\" class=\"dataframe\">\n",
       "  <thead>\n",
       "    <tr style=\"text-align: right;\">\n",
       "      <th></th>\n",
       "      <th>consistency</th>\n",
       "      <th>coherence</th>\n",
       "      <th>fluency</th>\n",
       "      <th>relevance</th>\n",
       "    </tr>\n",
       "    <tr>\n",
       "      <th>dataset</th>\n",
       "      <th></th>\n",
       "      <th></th>\n",
       "      <th></th>\n",
       "      <th></th>\n",
       "    </tr>\n",
       "  </thead>\n",
       "  <tbody>\n",
       "    <tr>\n",
       "      <th>summeval</th>\n",
       "      <td>0.819167</td>\n",
       "      <td>0.666944</td>\n",
       "      <td>0.758611</td>\n",
       "      <td>0.614167</td>\n",
       "    </tr>\n",
       "  </tbody>\n",
       "</table>\n",
       "</div>"
      ],
      "text/plain": [
       "          consistency  coherence   fluency  relevance\n",
       "dataset                                              \n",
       "summeval     0.819167   0.666944  0.758611   0.614167"
      ]
     },
     "metadata": {},
     "output_type": "display_data"
    },
    {
     "name": "stderr",
     "output_type": "stream",
     "text": [
      "fitting models: 100%|██████████| 10/10 [03:04<00:00, 18.44s/it]\n",
      "fitting models: 100%|██████████| 10/10 [07:20<00:00, 44.05s/it]\n",
      "fitting models:  60%|██████    | 6/10 [02:25<01:33, 23.39s/it]"
     ]
    },
    {
     "ename": "",
     "evalue": "",
     "output_type": "error",
     "traceback": [
      "\u001b[1;31mThe Kernel crashed while executing code in the current cell or a previous cell. \n",
      "\u001b[1;31mPlease review the code in the cell(s) to identify a possible cause of the failure. \n",
      "\u001b[1;31mClick <a href='https://aka.ms/vscodeJupyterKernelCrash'>here</a> for more info. \n",
      "\u001b[1;31mView Jupyter <a href='command:jupyter.viewOutput'>log</a> for further details."
     ]
    }
   ],
   "source": [
    "split = 0.7\n",
    "\n",
    "for model in [\"mistral\", \"llama2\", \"llama3\"]:\n",
    "    results = pd.DataFrame(columns=[\"dataset\"]+aspects)\n",
    "    for dataset in [\"summeval\"]:\n",
    "        row = [dataset]\n",
    "        path = f\"{gdrive_path}/prompts_short/{model}/{dataset}_mine_1.jsonl\"\n",
    "        ref = pd.read_json(path, orient=\"records\", lines=True)\n",
    "        for aspect in aspects:\n",
    "            c1 = t.load(f\"{gdrive_path}/activations_short/{model}/{dataset}_{aspect}_1.pt\")\n",
    "            c2 = t.load(f\"{gdrive_path}/activations_short/{model}/{dataset}_{aspect}_2.pt\")\n",
    "            X = c1 - c2\n",
    "            y = ref[aspect].apply(lambda x: (x[0] > x[1])*1).values\n",
    "            split_ix = int(split*len(X))\n",
    "            accs, ks = [], []\n",
    "            for _ in trange(10, desc=\"fitting models\"):\n",
    "                perm = t.randperm(len(X))\n",
    "                _X, _y = X[perm], y[perm]\n",
    "                X_train, X_test = X[:split_ix], X[split_ix:]\n",
    "                y_train, y_test = y[:split_ix], y[split_ix:]\n",
    "                lr = LogisticRegression(max_iter=10_000)\n",
    "                lr.fit(X_train, y_train)\n",
    "                preds = lr.predict(X_test)\n",
    "                acc = (preds == y_test).mean()\n",
    "                k = kappa(preds, y_test)\n",
    "                accs.append(acc)\n",
    "                ks.append(k)\n",
    "            row.extend([np.mean(accs)])\n",
    "        results.loc[len(results)] = row\n",
    "    results.set_index(\"dataset\", inplace=True)\n",
    "    print(model)\n",
    "    display(results)"
   ]
  }
 ],
 "metadata": {
  "kernelspec": {
   "display_name": "pairs",
   "language": "python",
   "name": "python3"
  },
  "language_info": {
   "codemirror_mode": {
    "name": "ipython",
    "version": 3
   },
   "file_extension": ".py",
   "mimetype": "text/x-python",
   "name": "python",
   "nbconvert_exporter": "python",
   "pygments_lexer": "ipython3",
   "version": "3.12.2"
  }
 },
 "nbformat": 4,
 "nbformat_minor": 2
}
