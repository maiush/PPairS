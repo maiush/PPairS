{
 "cells": [
  {
   "cell_type": "code",
   "execution_count": 1,
   "metadata": {},
   "outputs": [],
   "source": [
    "import os, sys; sys.path.append(\"utils\")\n",
    "from constants import *\n",
    "\n",
    "import numpy as np\n",
    "import pandas as pd\n",
    "\n",
    "from sklearn.metrics import cohen_kappa_score as kappa\n",
    "\n",
    "\n",
    "aspects = [\"consistency\", \"coherence\", \"fluency\", \"relevance\"]"
   ]
  },
  {
   "cell_type": "code",
   "execution_count": 3,
   "metadata": {},
   "outputs": [
    {
     "name": "stdout",
     "output_type": "stream",
     "text": [
      "mistral\n"
     ]
    },
    {
     "data": {
      "text/html": [
       "<div>\n",
       "<style scoped>\n",
       "    .dataframe tbody tr th:only-of-type {\n",
       "        vertical-align: middle;\n",
       "    }\n",
       "\n",
       "    .dataframe tbody tr th {\n",
       "        vertical-align: top;\n",
       "    }\n",
       "\n",
       "    .dataframe thead th {\n",
       "        text-align: right;\n",
       "    }\n",
       "</style>\n",
       "<table border=\"1\" class=\"dataframe\">\n",
       "  <thead>\n",
       "    <tr style=\"text-align: right;\">\n",
       "      <th></th>\n",
       "      <th>consistency</th>\n",
       "      <th>coherence</th>\n",
       "      <th>fluency</th>\n",
       "      <th>relevance</th>\n",
       "    </tr>\n",
       "    <tr>\n",
       "      <th>dataset</th>\n",
       "      <th></th>\n",
       "      <th></th>\n",
       "      <th></th>\n",
       "      <th></th>\n",
       "    </tr>\n",
       "  </thead>\n",
       "  <tbody>\n",
       "    <tr>\n",
       "      <th>summeval</th>\n",
       "      <td>0.077988</td>\n",
       "      <td>0.123817</td>\n",
       "      <td>0.071252</td>\n",
       "      <td>0.176896</td>\n",
       "    </tr>\n",
       "    <tr>\n",
       "      <th>newsroom</th>\n",
       "      <td>0.072274</td>\n",
       "      <td>0.048968</td>\n",
       "      <td>0.092415</td>\n",
       "      <td>0.144902</td>\n",
       "    </tr>\n",
       "  </tbody>\n",
       "</table>\n",
       "</div>"
      ],
      "text/plain": [
       "          consistency  coherence   fluency  relevance\n",
       "dataset                                              \n",
       "summeval     0.077988   0.123817  0.071252   0.176896\n",
       "newsroom     0.072274   0.048968  0.092415   0.144902"
      ]
     },
     "metadata": {},
     "output_type": "display_data"
    },
    {
     "name": "stdout",
     "output_type": "stream",
     "text": [
      "llama2\n"
     ]
    },
    {
     "data": {
      "text/html": [
       "<div>\n",
       "<style scoped>\n",
       "    .dataframe tbody tr th:only-of-type {\n",
       "        vertical-align: middle;\n",
       "    }\n",
       "\n",
       "    .dataframe tbody tr th {\n",
       "        vertical-align: top;\n",
       "    }\n",
       "\n",
       "    .dataframe thead th {\n",
       "        text-align: right;\n",
       "    }\n",
       "</style>\n",
       "<table border=\"1\" class=\"dataframe\">\n",
       "  <thead>\n",
       "    <tr style=\"text-align: right;\">\n",
       "      <th></th>\n",
       "      <th>consistency</th>\n",
       "      <th>coherence</th>\n",
       "      <th>fluency</th>\n",
       "      <th>relevance</th>\n",
       "    </tr>\n",
       "    <tr>\n",
       "      <th>dataset</th>\n",
       "      <th></th>\n",
       "      <th></th>\n",
       "      <th></th>\n",
       "      <th></th>\n",
       "    </tr>\n",
       "  </thead>\n",
       "  <tbody>\n",
       "    <tr>\n",
       "      <th>summeval</th>\n",
       "      <td>0.108530</td>\n",
       "      <td>0.157500</td>\n",
       "      <td>0.047572</td>\n",
       "      <td>0.159315</td>\n",
       "    </tr>\n",
       "    <tr>\n",
       "      <th>newsroom</th>\n",
       "      <td>0.261633</td>\n",
       "      <td>0.258971</td>\n",
       "      <td>0.193046</td>\n",
       "      <td>0.276952</td>\n",
       "    </tr>\n",
       "  </tbody>\n",
       "</table>\n",
       "</div>"
      ],
      "text/plain": [
       "          consistency  coherence   fluency  relevance\n",
       "dataset                                              \n",
       "summeval     0.108530   0.157500  0.047572   0.159315\n",
       "newsroom     0.261633   0.258971  0.193046   0.276952"
      ]
     },
     "metadata": {},
     "output_type": "display_data"
    },
    {
     "name": "stdout",
     "output_type": "stream",
     "text": [
      "llama3\n"
     ]
    },
    {
     "data": {
      "text/html": [
       "<div>\n",
       "<style scoped>\n",
       "    .dataframe tbody tr th:only-of-type {\n",
       "        vertical-align: middle;\n",
       "    }\n",
       "\n",
       "    .dataframe tbody tr th {\n",
       "        vertical-align: top;\n",
       "    }\n",
       "\n",
       "    .dataframe thead th {\n",
       "        text-align: right;\n",
       "    }\n",
       "</style>\n",
       "<table border=\"1\" class=\"dataframe\">\n",
       "  <thead>\n",
       "    <tr style=\"text-align: right;\">\n",
       "      <th></th>\n",
       "      <th>consistency</th>\n",
       "      <th>coherence</th>\n",
       "      <th>fluency</th>\n",
       "      <th>relevance</th>\n",
       "    </tr>\n",
       "    <tr>\n",
       "      <th>dataset</th>\n",
       "      <th></th>\n",
       "      <th></th>\n",
       "      <th></th>\n",
       "      <th></th>\n",
       "    </tr>\n",
       "  </thead>\n",
       "  <tbody>\n",
       "    <tr>\n",
       "      <th>summeval</th>\n",
       "      <td>0.148657</td>\n",
       "      <td>0.263699</td>\n",
       "      <td>0.167664</td>\n",
       "      <td>0.266690</td>\n",
       "    </tr>\n",
       "    <tr>\n",
       "      <th>newsroom</th>\n",
       "      <td>0.355684</td>\n",
       "      <td>0.398756</td>\n",
       "      <td>0.361434</td>\n",
       "      <td>0.359748</td>\n",
       "    </tr>\n",
       "  </tbody>\n",
       "</table>\n",
       "</div>"
      ],
      "text/plain": [
       "          consistency  coherence   fluency  relevance\n",
       "dataset                                              \n",
       "summeval     0.148657   0.263699  0.167664   0.266690\n",
       "newsroom     0.355684   0.398756  0.361434   0.359748"
      ]
     },
     "metadata": {},
     "output_type": "display_data"
    }
   ],
   "source": [
    "for model in [\"mistral\", \"llama2\", \"llama3\"]:\n",
    "    results = pd.DataFrame(columns=[\"dataset\"]+aspects)\n",
    "    for dataset in [\"summeval\", \"newsroom\"]:\n",
    "        row = [dataset]\n",
    "        for aspect in aspects:\n",
    "            path = f\"{gdrive_path}/logits_short/{model}/{dataset}_{aspect}.jsonl\"\n",
    "            logits = pd.read_json(path, orient=\"records\", lines=True)\n",
    "            accs, ks = [], []\n",
    "            for article in logits[\"article_id\"].unique():\n",
    "                subset = logits.loc[logits[\"article_id\"] == article, [aspect, \"p_s1\"]].copy()\n",
    "                subset[aspect] = subset[aspect].apply(lambda x: (x[0] > x[1])*1)\n",
    "                subset[\"p_s1\"] = subset[\"p_s1\"].apply(lambda x: (x > 0.5)*1)\n",
    "                acc = (subset[aspect] == subset[\"p_s1\"]).mean()\n",
    "                k = kappa(subset[aspect], subset[\"p_s1\"])\n",
    "                accs.append(acc)\n",
    "                ks.append(k)\n",
    "            row.extend([np.mean(ks)])\n",
    "        results.loc[len(results)] = row\n",
    "    results.set_index(\"dataset\", inplace=True)\n",
    "    print(model)\n",
    "    display(results)"
   ]
  }
 ],
 "metadata": {
  "kernelspec": {
   "display_name": "pairs",
   "language": "python",
   "name": "python3"
  },
  "language_info": {
   "codemirror_mode": {
    "name": "ipython",
    "version": 3
   },
   "file_extension": ".py",
   "mimetype": "text/x-python",
   "name": "python",
   "nbconvert_exporter": "python",
   "pygments_lexer": "ipython3",
   "version": "3.12.2"
  }
 },
 "nbformat": 4,
 "nbformat_minor": 2
}
