{
 "cells": [
  {
   "cell_type": "code",
   "execution_count": 1,
   "metadata": {},
   "outputs": [],
   "source": [
    "import pandas as pd"
   ]
  },
  {
   "cell_type": "code",
   "execution_count": 2,
   "metadata": {},
   "outputs": [],
   "source": [
    "# newsroom\n",
    "\n",
    "df = pd.read_json(\"unprocessed/newsroom.json\")\n",
    "\n",
    "article_ids = [f\"A{i}\" for i in range(60) for _ in range(7)]\n",
    "summary_ids = [f\"S{i % 7}\" for i in range(60*7)]\n",
    "articles = df[\"source\"].unique().tolist()\n",
    "summaries, scores = [], []\n",
    "for article in articles:\n",
    "    article_data = df.loc[df[\"source\"] == article, [\"system_output\", \"scores\"]]\n",
    "    summaries += article_data[\"system_output\"].tolist()\n",
    "    scores += article_data[\"scores\"].tolist()\n",
    "df = pd.DataFrame()\n",
    "df[\"article_id\"] = article_ids\n",
    "df[\"summary_id\"] = summary_ids\n",
    "df[\"article\"] = [a for a in articles for _ in range(7)]\n",
    "df[\"summary\"] = summaries\n",
    "df[\"scores\"] = scores\n",
    "\n",
    "for aspect in [\"coherence\", \"fluency\", \"informativeness\", \"relevance\"]:\n",
    "    df[aspect] = df[\"scores\"].apply(lambda x: x[aspect])\n",
    "\n",
    "df.drop(columns=[\"scores\"], inplace=True)\n",
    "\n",
    "df.to_json(\"newsroom.jsonl\", orient=\"records\", lines=True)"
   ]
  },
  {
   "cell_type": "code",
   "execution_count": 3,
   "metadata": {},
   "outputs": [],
   "source": [
    "# summeval\n",
    "\n",
    "df = pd.read_json(\"unprocessed/summeval.jsonl\", orient=\"records\", lines=True)\n",
    "\n",
    "article_ids = [f\"A{i}\" for i in range(100) for _ in range(16)]\n",
    "summary_ids = [f\"S{i % 16}\" for i in range(100*16)]\n",
    "articles = df[\"text\"].unique().tolist()\n",
    "summaries, scores = [], []\n",
    "for article in articles:\n",
    "    article_data = df.loc[df[\"text\"] == article, [\"decoded\", \"expert_annotations\"]]\n",
    "    summaries += article_data[\"decoded\"].tolist()\n",
    "    scores += article_data[\"expert_annotations\"].tolist()\n",
    "df = pd.DataFrame()\n",
    "df[\"article_id\"] = article_ids\n",
    "df[\"summary_id\"] = summary_ids\n",
    "df[\"article\"] = [a for a in articles for _ in range(16)]\n",
    "df[\"summary\"] = summaries\n",
    "df[\"scores\"] = scores\n",
    "\n",
    "for aspect in [\"coherence\", \"fluency\", \"consistency\", \"relevance\"]:\n",
    "    df[aspect] = df[\"scores\"].apply(lambda x: sum([s[aspect] for s in x])/3)\n",
    "\n",
    "df.drop(columns=[\"scores\"], inplace=True)\n",
    "\n",
    "df.to_json(\"summeval.jsonl\", orient=\"records\", lines=True)"
   ]
  },
  {
   "cell_type": "code",
   "execution_count": 4,
   "metadata": {},
   "outputs": [],
   "source": [
    "# hanna\n",
    "\n",
    "df = pd.read_csv(\"unprocessed/hanna.csv\")\n",
    "\n",
    "aspects = [\"Relevance\", \"Coherence\", \"Empathy\", \"Surprise\", \"Engagement\", \"Complexity\"]\n",
    "prompt_ids = [f\"P{i}\" for i in range(96) for _ in range(11)]\n",
    "story_ids = [f\"S{i % 11}\" for i in range(96*11)]\n",
    "prompts = df[\"Prompt\"].unique().tolist()\n",
    "stories, scores = [], {aspect: [] for aspect in aspects}\n",
    "for prompt in prompts:\n",
    "    prompt_data = df.loc[df[\"Prompt\"] == prompt, [\"Story\"]+aspects].groupby(\"Story\").mean()\n",
    "    stories += prompt_data.index.tolist()\n",
    "    for aspect in aspects:\n",
    "        scores[aspect] += prompt_data[aspect].tolist()\n",
    "    \n",
    "df = pd.DataFrame()\n",
    "df[\"prompt_id\"] = prompt_ids\n",
    "df[\"story_id\"] = story_ids\n",
    "df[\"prompt\"] = [p for p in prompts for _ in range(11)]\n",
    "df[\"story\"] = stories\n",
    "for aspect in aspects:\n",
    "    df[aspect] = scores[aspect]\n",
    "\n",
    "df.to_json(\"hanna.jsonl\", orient=\"records\", lines=True)"
   ]
  }
 ],
 "metadata": {
  "kernelspec": {
   "display_name": "pairs",
   "language": "python",
   "name": "python3"
  },
  "language_info": {
   "codemirror_mode": {
    "name": "ipython",
    "version": 3
   },
   "file_extension": ".py",
   "mimetype": "text/x-python",
   "name": "python",
   "nbconvert_exporter": "python",
   "pygments_lexer": "ipython3",
   "version": "3.12.4"
  }
 },
 "nbformat": 4,
 "nbformat_minor": 2
}
