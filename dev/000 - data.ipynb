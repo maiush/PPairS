{
 "cells": [
  {
   "cell_type": "markdown",
   "metadata": {},
   "source": [
    "Preprocessing of SummEval and News Room datasets.\n",
    "\n",
    "- extract original articles.\n",
    "- extract summaries.\n",
    "- extract ID's for articles and summaries.\n",
    "- extract summary scores from human experts."
   ]
  },
  {
   "cell_type": "code",
   "execution_count": 3,
   "metadata": {},
   "outputs": [],
   "source": [
    "import sys; sys.path.append(\"../utils\")\n",
    "from constants import *\n",
    "import pandas as pd"
   ]
  },
  {
   "cell_type": "markdown",
   "metadata": {},
   "source": [
    "### SummEval"
   ]
  },
  {
   "cell_type": "code",
   "execution_count": 14,
   "metadata": {},
   "outputs": [],
   "source": [
    "path = f\"{gdrive_path}/data/summeval\"\n",
    "df = pd.read_json(f\"{path}/model_annotations.aligned.paired.jsonl\", orient=\"records\", lines=True)\n",
    "\n",
    "out = pd.DataFrame(columns=[\"article_id\", \"model_id\", \"article\", \"summary\", \"coherence\", \"consistency\", \"fluency\", \"relevance\"])\n",
    "for article_id in df[\"id\"].unique():\n",
    "    summaries = df.loc[df[\"id\"] == article_id, :]\n",
    "    assert summaries[\"model_id\"].nunique() == 16\n",
    "    assert summaries[\"text\"].nunique() == 1\n",
    "    for model_id in summaries[\"model_id\"].unique():\n",
    "        ratings = summaries.loc[summaries[\"model_id\"] == model_id, \"expert_annotations\"].item()\n",
    "        assert len(ratings) == 3\n",
    "        row = [article_id, model_id, summaries[\"text\"].iloc[0]]\n",
    "        row.append(summaries.loc[summaries[\"model_id\"] == model_id, \"decoded\"].item())\n",
    "        for col in [\"coherence\", \"consistency\", \"fluency\", \"relevance\"]:\n",
    "            scores = [r[col] for r in ratings]\n",
    "            avg_score = sum(scores) / len(scores)\n",
    "            row.append(avg_score)\n",
    "        out.loc[len(out)] = row\n",
    "\n",
    "out.rename(columns={\"model_id\": \"summary_id\"}, inplace=True)\n",
    "out.to_json(f\"{gdrive_path}/data/summeval-processed.jsonl\", orient=\"records\", lines=True)"
   ]
  },
  {
   "cell_type": "code",
   "execution_count": 15,
   "metadata": {},
   "outputs": [
    {
     "data": {
      "text/html": [
       "<div>\n",
       "<style scoped>\n",
       "    .dataframe tbody tr th:only-of-type {\n",
       "        vertical-align: middle;\n",
       "    }\n",
       "\n",
       "    .dataframe tbody tr th {\n",
       "        vertical-align: top;\n",
       "    }\n",
       "\n",
       "    .dataframe thead th {\n",
       "        text-align: right;\n",
       "    }\n",
       "</style>\n",
       "<table border=\"1\" class=\"dataframe\">\n",
       "  <thead>\n",
       "    <tr style=\"text-align: right;\">\n",
       "      <th></th>\n",
       "      <th>article_id</th>\n",
       "      <th>summary_id</th>\n",
       "      <th>article</th>\n",
       "      <th>summary</th>\n",
       "      <th>coherence</th>\n",
       "      <th>consistency</th>\n",
       "      <th>fluency</th>\n",
       "      <th>relevance</th>\n",
       "    </tr>\n",
       "  </thead>\n",
       "  <tbody>\n",
       "    <tr>\n",
       "      <th>0</th>\n",
       "      <td>dm-test-8764fb95bfad8ee849274873a92fb8d6b400eee2</td>\n",
       "      <td>M11</td>\n",
       "      <td>Paul Merson has restarted his row with Andros ...</td>\n",
       "      <td>paul merson was brought on with only seven min...</td>\n",
       "      <td>1.333333</td>\n",
       "      <td>1.0</td>\n",
       "      <td>3.0</td>\n",
       "      <td>1.666667</td>\n",
       "    </tr>\n",
       "  </tbody>\n",
       "</table>\n",
       "</div>"
      ],
      "text/plain": [
       "                                         article_id summary_id  \\\n",
       "0  dm-test-8764fb95bfad8ee849274873a92fb8d6b400eee2        M11   \n",
       "\n",
       "                                             article  \\\n",
       "0  Paul Merson has restarted his row with Andros ...   \n",
       "\n",
       "                                             summary  coherence  consistency  \\\n",
       "0  paul merson was brought on with only seven min...   1.333333          1.0   \n",
       "\n",
       "   fluency  relevance  \n",
       "0      3.0   1.666667  "
      ]
     },
     "execution_count": 15,
     "metadata": {},
     "output_type": "execute_result"
    }
   ],
   "source": [
    "out.head(1)"
   ]
  },
  {
   "cell_type": "markdown",
   "metadata": {},
   "source": [
    "### News Room"
   ]
  },
  {
   "cell_type": "code",
   "execution_count": 16,
   "metadata": {},
   "outputs": [],
   "source": [
    "path = f\"{gdrive_path}/data/newsroom\"\n",
    "df = pd.read_csv(f\"{path}/newsroom-human-eval.csv\")\n",
    "df.drop(columns=[\"ArticleTitle\"], inplace=True)\n",
    "column_mapping = {\n",
    "    \"ArticleID\": \"article_id\",\n",
    "    \"System\": \"system_id\",\n",
    "    \"ArticleText\": \"article\",\n",
    "    \"SystemSummary\": \"summary\",\n",
    "    \"CoherenceRating\": \"coherence\",\n",
    "    \"FluencyRating\": \"fluency\",\n",
    "    \"InformativenessRating\": \"consistency\",\n",
    "    \"RelevanceRating\": \"relevance\"\n",
    "}\n",
    "df.rename(columns=column_mapping, inplace=True)\n",
    "df[\"system_id\"] = df.system_id.factorize()[0]\n",
    "\n",
    "out = pd.DataFrame(columns=df.columns)\n",
    "for article in df.article_id.unique():\n",
    "    for system in df.system_id.unique():\n",
    "        ratings = df.loc[(df.article_id == article)&(df.system_id == system), :]\n",
    "        # sanity checks\n",
    "        assert len(ratings) == 3\n",
    "        assert ratings[\"article\"].nunique() == 1\n",
    "        assert ratings[\"summary\"].nunique() == 1\n",
    "        row = ratings.iloc[0].copy()\n",
    "        for col in [\"coherence\", \"fluency\", \"consistency\", \"relevance\"]:\n",
    "            row[col] = ratings[col].mean()\n",
    "        out.loc[len(out)] = row\n",
    "\n",
    "out.rename(columns={\"system_id\": \"summary_id\"}, inplace=True)\n",
    "out.to_json(f\"{gdrive_path}/data/newsroom-processed.jsonl\", orient=\"records\", lines=True)"
   ]
  },
  {
   "cell_type": "code",
   "execution_count": 17,
   "metadata": {},
   "outputs": [
    {
     "data": {
      "text/html": [
       "<div>\n",
       "<style scoped>\n",
       "    .dataframe tbody tr th:only-of-type {\n",
       "        vertical-align: middle;\n",
       "    }\n",
       "\n",
       "    .dataframe tbody tr th {\n",
       "        vertical-align: top;\n",
       "    }\n",
       "\n",
       "    .dataframe thead th {\n",
       "        text-align: right;\n",
       "    }\n",
       "</style>\n",
       "<table border=\"1\" class=\"dataframe\">\n",
       "  <thead>\n",
       "    <tr style=\"text-align: right;\">\n",
       "      <th></th>\n",
       "      <th>article_id</th>\n",
       "      <th>summary_id</th>\n",
       "      <th>article</th>\n",
       "      <th>summary</th>\n",
       "      <th>coherence</th>\n",
       "      <th>fluency</th>\n",
       "      <th>consistency</th>\n",
       "      <th>relevance</th>\n",
       "    </tr>\n",
       "  </thead>\n",
       "  <tbody>\n",
       "    <tr>\n",
       "      <th>0</th>\n",
       "      <td>2140</td>\n",
       "      <td>0</td>\n",
       "      <td>A worker sets up a polling station the morning...</td>\n",
       "      <td>John Avlon voter turnout in the is a sign of a...</td>\n",
       "      <td>2.666667</td>\n",
       "      <td>3.333333</td>\n",
       "      <td>2.666667</td>\n",
       "      <td>3.0</td>\n",
       "    </tr>\n",
       "  </tbody>\n",
       "</table>\n",
       "</div>"
      ],
      "text/plain": [
       "  article_id summary_id                                            article  \\\n",
       "0       2140          0  A worker sets up a polling station the morning...   \n",
       "\n",
       "                                             summary coherence   fluency  \\\n",
       "0  John Avlon voter turnout in the is a sign of a...  2.666667  3.333333   \n",
       "\n",
       "  consistency relevance  \n",
       "0    2.666667       3.0  "
      ]
     },
     "execution_count": 17,
     "metadata": {},
     "output_type": "execute_result"
    }
   ],
   "source": [
    "out.head(1)"
   ]
  }
 ],
 "metadata": {
  "kernelspec": {
   "display_name": "pairs",
   "language": "python",
   "name": "python3"
  },
  "language_info": {
   "codemirror_mode": {
    "name": "ipython",
    "version": 3
   },
   "file_extension": ".py",
   "mimetype": "text/x-python",
   "name": "python",
   "nbconvert_exporter": "python",
   "pygments_lexer": "ipython3",
   "version": "3.12.2"
  }
 },
 "nbformat": 4,
 "nbformat_minor": 2
}
